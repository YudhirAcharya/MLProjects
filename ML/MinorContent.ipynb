{
  "nbformat": 4,
  "nbformat_minor": 0,
  "metadata": {
    "colab": {
      "provenance": [],
      "authorship_tag": "ABX9TyO72Az9FuIfBDCkwuMZO6ri",
      "include_colab_link": true
    },
    "kernelspec": {
      "name": "python3",
      "display_name": "Python 3"
    },
    "language_info": {
      "name": "python"
    }
  },
  "cells": [
    {
      "cell_type": "markdown",
      "metadata": {
        "id": "view-in-github",
        "colab_type": "text"
      },
      "source": [
        "<a href=\"https://colab.research.google.com/github/YudhirAcharya/MLProjects/blob/master/ML/MinorContent.ipynb\" target=\"_parent\"><img src=\"https://colab.research.google.com/assets/colab-badge.svg\" alt=\"Open In Colab\"/></a>"
      ]
    },
    {
      "cell_type": "code",
      "execution_count": 3,
      "metadata": {
        "id": "NK-CeJdANdYF"
      },
      "outputs": [],
      "source": [
        "import numpy as np\n",
        "import pandas as pd"
      ]
    },
    {
      "cell_type": "code",
      "source": [
        "df = pd.read_csv('new indian food dataset.csv')"
      ],
      "metadata": {
        "id": "RUPwdZmzNnLT"
      },
      "execution_count": 4,
      "outputs": []
    },
    {
      "cell_type": "code",
      "source": [
        "df.sample"
      ],
      "metadata": {
        "colab": {
          "base_uri": "https://localhost:8080/"
        },
        "id": "Wm5HRk7JWBf8",
        "outputId": "2463b701-a72f-40d2-85e1-970d46682fd4"
      },
      "execution_count": 5,
      "outputs": [
        {
          "output_type": "execute_result",
          "data": {
            "text/plain": [
              "<bound method NDFrame.sample of       FoodID                               TranslatedRecipeName  \\\n",
              "0        100                               Masala Karela Recipe   \n",
              "1        101                         Spicy Tomato Rice (Recipe)   \n",
              "2        102  Ragi Semiya Upma Recipe - Ragi Millet Vermicel...   \n",
              "3        103  Gongura Chicken Curry Recipe - Andhra Style Go...   \n",
              "4        104  Andhra Style Alam Pachadi Recipe - Adrak Chutn...   \n",
              "...      ...                                                ...   \n",
              "6033      96                       Brown Sugar Oatmeal Pancakes   \n",
              "6034      97                                 Lime Chicken Tacos   \n",
              "6035      98                       Quick Cream of Mushroom Soup   \n",
              "6036      99                               Egg Roll Noodle Bowl   \n",
              "6037     100                      Mamaw Emily’s Strawberry Cake   \n",
              "\n",
              "                                  TranslatedIngredients  TotalTimeInMins  \\\n",
              "0     1 tablespoon Red Chilli powder,3 tablespoon Gr...               45   \n",
              "1      2 teaspoon cashew - or peanuts, 1/2 Teaspoon ...               15   \n",
              "2     1 Onion - sliced,1 teaspoon White Urad Dal (Sp...               50   \n",
              "3     1/2 teaspoon Turmeric powder (Haldi),1 tablesp...               45   \n",
              "4      oil - as per use, 1 tablespoon coriander seed...               30   \n",
              "...                                                 ...              ...   \n",
              "6033                                                NaN               15   \n",
              "6034                                                NaN               20   \n",
              "6035                                                NaN               30   \n",
              "6036                                                NaN               30   \n",
              "6037                                                NaN               60   \n",
              "\n",
              "                   Cuisine                                Cleaned-Ingredients  \\\n",
              "0                   Indian  salt,amchur (dry mango powder),karela (bitter ...   \n",
              "1     South Indian Recipes  tomato,salt,chickpea lentils,green chilli,rice...   \n",
              "2     South Indian Recipes  salt,rice vermicelli noodles (thin),asafoetida...   \n",
              "3                   Andhra  tomato,salt,ginger,sorrel leaves (gongura),fen...   \n",
              "4                   Andhra  tomato,salt,ginger,red chillies,curry,asafoeti...   \n",
              "...                    ...                                                ...   \n",
              "6033              American  flour, brown sugar, baking powder, milk, eggs,...   \n",
              "6034              American     chicken, lime, cumin, salsa, cheese, tortillas   \n",
              "6035              American       onion, garlic, mushrooms, broth, milk, flour   \n",
              "6036              American  ramen noodles, cabbage, carrot, eggs, soy sauc...   \n",
              "6037              American  white cake mix, strawberries, sugar, butter, eggs   \n",
              "\n",
              "                                              image-url  Ingredient-count  \\\n",
              "0     https://www.archanaskitchen.com/images/archana...              10.0   \n",
              "1     https://www.archanaskitchen.com/images/archana...              12.0   \n",
              "2     https://www.archanaskitchen.com/images/archana...              12.0   \n",
              "3     https://www.archanaskitchen.com/images/archana...              15.0   \n",
              "4     https://www.archanaskitchen.com/images/archana...              12.0   \n",
              "...                                                 ...               ...   \n",
              "6033  https://savoryspin.com/wp-content/uploads/2018...               NaN   \n",
              "6034  https://thestayathomechef.com/wp-content/uploa...               NaN   \n",
              "6035  https://www.tasteofhome.com/wp-content/uploads...               NaN   \n",
              "6036  https://www.tasteofhome.com/wp-content/uploads...               NaN   \n",
              "6037  https://www.google.com/imgres?imgurl=https%3A%...               NaN   \n",
              "\n",
              "      price  \n",
              "0        50  \n",
              "1        51  \n",
              "2        52  \n",
              "3        53  \n",
              "4        54  \n",
              "...     ...  \n",
              "6033    816  \n",
              "6034    817  \n",
              "6035    818  \n",
              "6036    819  \n",
              "6037    820  \n",
              "\n",
              "[6038 rows x 9 columns]>"
            ]
          },
          "metadata": {},
          "execution_count": 5
        }
      ]
    },
    {
      "cell_type": "markdown",
      "source": [
        "create tags for food\n",
        "taking foodID , recipe name, cuisine, cleaned ingredients"
      ],
      "metadata": {
        "id": "uKrJMkogwkzC"
      }
    },
    {
      "cell_type": "code",
      "source": [
        "df['Cuisine'].value_counts()"
      ],
      "metadata": {
        "colab": {
          "base_uri": "https://localhost:8080/"
        },
        "id": "oEHuapqUdBE0",
        "outputId": "aa0994c0-af24-48c8-9511-0b9d4ea61c81"
      },
      "execution_count": 6,
      "outputs": [
        {
          "output_type": "execute_result",
          "data": {
            "text/plain": [
              "Continental             952\n",
              "Indian                  927\n",
              "North Indian Recipes    763\n",
              "South Indian Recipes    558\n",
              "Italian Recipes         231\n",
              "                       ... \n",
              "Burmese                   1\n",
              "Shandong                  1\n",
              "Brunch                    1\n",
              "Lunch                     1\n",
              "Dessert                   1\n",
              "Name: Cuisine, Length: 82, dtype: int64"
            ]
          },
          "metadata": {},
          "execution_count": 6
        }
      ]
    },
    {
      "cell_type": "code",
      "source": [
        "import matplotlib.pyplot as plt\n"
      ],
      "metadata": {
        "id": "vJTBnYJ4VLoA"
      },
      "execution_count": 7,
      "outputs": []
    },
    {
      "cell_type": "code",
      "source": [
        "df.info()"
      ],
      "metadata": {
        "colab": {
          "base_uri": "https://localhost:8080/"
        },
        "id": "phYmmh3MyPfv",
        "outputId": "fde33b6a-54fa-4bf4-fc23-e1129d42b618"
      },
      "execution_count": 8,
      "outputs": [
        {
          "output_type": "stream",
          "name": "stdout",
          "text": [
            "<class 'pandas.core.frame.DataFrame'>\n",
            "RangeIndex: 6038 entries, 0 to 6037\n",
            "Data columns (total 9 columns):\n",
            " #   Column                 Non-Null Count  Dtype  \n",
            "---  ------                 --------------  -----  \n",
            " 0   FoodID                 6038 non-null   int64  \n",
            " 1   TranslatedRecipeName   6038 non-null   object \n",
            " 2   TranslatedIngredients  5938 non-null   object \n",
            " 3   TotalTimeInMins        6038 non-null   int64  \n",
            " 4   Cuisine                6038 non-null   object \n",
            " 5   Cleaned-Ingredients    6038 non-null   object \n",
            " 6   image-url              6038 non-null   object \n",
            " 7   Ingredient-count       5938 non-null   float64\n",
            " 8   price                  6038 non-null   int64  \n",
            "dtypes: float64(1), int64(3), object(5)\n",
            "memory usage: 424.7+ KB\n"
          ]
        }
      ]
    },
    {
      "cell_type": "code",
      "source": [
        "df.isnull().sum()"
      ],
      "metadata": {
        "colab": {
          "base_uri": "https://localhost:8080/"
        },
        "id": "YFoEE8uU3LZM",
        "outputId": "23963483-51d3-4ac7-e0f6-d45670b79141"
      },
      "execution_count": 9,
      "outputs": [
        {
          "output_type": "execute_result",
          "data": {
            "text/plain": [
              "FoodID                     0\n",
              "TranslatedRecipeName       0\n",
              "TranslatedIngredients    100\n",
              "TotalTimeInMins            0\n",
              "Cuisine                    0\n",
              "Cleaned-Ingredients        0\n",
              "image-url                  0\n",
              "Ingredient-count         100\n",
              "price                      0\n",
              "dtype: int64"
            ]
          },
          "metadata": {},
          "execution_count": 9
        }
      ]
    },
    {
      "cell_type": "markdown",
      "source": [
        "data preprocessing"
      ],
      "metadata": {
        "id": "-lKZYhSN0I8B"
      }
    },
    {
      "cell_type": "code",
      "source": [
        "df = df[['FoodID', 'TranslatedRecipeName', 'Cuisine', 'Cleaned-Ingredients']]"
      ],
      "metadata": {
        "id": "3b2bWy_1zkES"
      },
      "execution_count": 10,
      "outputs": []
    },
    {
      "cell_type": "code",
      "source": [
        "df.info()"
      ],
      "metadata": {
        "colab": {
          "base_uri": "https://localhost:8080/"
        },
        "id": "kedAvKKG0oN3",
        "outputId": "e8e1a69f-a88f-4481-fa3c-e2b8f0ab4303"
      },
      "execution_count": 11,
      "outputs": [
        {
          "output_type": "stream",
          "name": "stdout",
          "text": [
            "<class 'pandas.core.frame.DataFrame'>\n",
            "RangeIndex: 6038 entries, 0 to 6037\n",
            "Data columns (total 4 columns):\n",
            " #   Column                Non-Null Count  Dtype \n",
            "---  ------                --------------  ----- \n",
            " 0   FoodID                6038 non-null   int64 \n",
            " 1   TranslatedRecipeName  6038 non-null   object\n",
            " 2   Cuisine               6038 non-null   object\n",
            " 3   Cleaned-Ingredients   6038 non-null   object\n",
            "dtypes: int64(1), object(3)\n",
            "memory usage: 188.8+ KB\n"
          ]
        }
      ]
    },
    {
      "cell_type": "code",
      "source": [
        "df.duplicated().sum()"
      ],
      "metadata": {
        "colab": {
          "base_uri": "https://localhost:8080/"
        },
        "id": "-_zv0GkQ0vQ_",
        "outputId": "7a9d760b-f619-4566-f82f-fb0b8025426f"
      },
      "execution_count": 12,
      "outputs": [
        {
          "output_type": "execute_result",
          "data": {
            "text/plain": [
              "0"
            ]
          },
          "metadata": {},
          "execution_count": 12
        }
      ]
    },
    {
      "cell_type": "code",
      "source": [
        "df.iloc[0]"
      ],
      "metadata": {
        "colab": {
          "base_uri": "https://localhost:8080/"
        },
        "id": "0LJ3rPZi3E2m",
        "outputId": "86c30dec-8e52-453a-966c-75f56db4b0b4"
      },
      "execution_count": 13,
      "outputs": [
        {
          "output_type": "execute_result",
          "data": {
            "text/plain": [
              "FoodID                                                                100\n",
              "TranslatedRecipeName                                 Masala Karela Recipe\n",
              "Cuisine                                                            Indian\n",
              "Cleaned-Ingredients     salt,amchur (dry mango powder),karela (bitter ...\n",
              "Name: 0, dtype: object"
            ]
          },
          "metadata": {},
          "execution_count": 13
        }
      ]
    },
    {
      "cell_type": "code",
      "source": [
        "df.iloc[0]['Cleaned-Ingredients']"
      ],
      "metadata": {
        "colab": {
          "base_uri": "https://localhost:8080/",
          "height": 53
        },
        "id": "1WJJhG3c5k3N",
        "outputId": "474d0541-c839-4f4d-99ca-d1d3b20896fc"
      },
      "execution_count": 14,
      "outputs": [
        {
          "output_type": "execute_result",
          "data": {
            "text/plain": [
              "'salt,amchur (dry mango powder),karela (bitter gourd pavakkai),red chilli powder,gram flour (besan),onion,cumin seeds (jeera),coriander powder,turmeric powder,sunflower oil'"
            ],
            "application/vnd.google.colaboratory.intrinsic+json": {
              "type": "string"
            }
          },
          "metadata": {},
          "execution_count": 14
        }
      ]
    },
    {
      "cell_type": "code",
      "source": [],
      "metadata": {
        "id": "VvfAfUl05spT"
      },
      "execution_count": 14,
      "outputs": []
    },
    {
      "cell_type": "markdown",
      "source": [
        "we need to remove powder, seed, salt, oil, flour, cold, sugar, tumeric,"
      ],
      "metadata": {
        "id": "LzbZOj4T8cah"
      }
    },
    {
      "cell_type": "code",
      "source": [
        "\n"
      ],
      "metadata": {
        "id": "N9vOcFf091Fz"
      },
      "execution_count": 14,
      "outputs": []
    },
    {
      "cell_type": "code",
      "source": [
        "df.loc[0]"
      ],
      "metadata": {
        "colab": {
          "base_uri": "https://localhost:8080/"
        },
        "id": "E3nz3jgt-kap",
        "outputId": "d70b24a0-ccef-4d3e-f875-d7512371d92f"
      },
      "execution_count": 15,
      "outputs": [
        {
          "output_type": "execute_result",
          "data": {
            "text/plain": [
              "FoodID                                                                100\n",
              "TranslatedRecipeName                                 Masala Karela Recipe\n",
              "Cuisine                                                            Indian\n",
              "Cleaned-Ingredients     salt,amchur (dry mango powder),karela (bitter ...\n",
              "Name: 0, dtype: object"
            ]
          },
          "metadata": {},
          "execution_count": 15
        }
      ]
    },
    {
      "cell_type": "code",
      "source": [
        "df.loc[0]"
      ],
      "metadata": {
        "colab": {
          "base_uri": "https://localhost:8080/"
        },
        "id": "w1WZUa52_IuP",
        "outputId": "8ab4acf0-04f6-412e-8968-5f43d4136b54"
      },
      "execution_count": 16,
      "outputs": [
        {
          "output_type": "execute_result",
          "data": {
            "text/plain": [
              "FoodID                                                                100\n",
              "TranslatedRecipeName                                 Masala Karela Recipe\n",
              "Cuisine                                                            Indian\n",
              "Cleaned-Ingredients     salt,amchur (dry mango powder),karela (bitter ...\n",
              "Name: 0, dtype: object"
            ]
          },
          "metadata": {},
          "execution_count": 16
        }
      ]
    },
    {
      "cell_type": "code",
      "source": [
        "# Remove spaces and parentheses\n",
        "import re\n",
        "def clean_ingredients(ingredient):\n",
        "\n",
        "    cleaned_ingredient = re.sub(r'[\\s\\(\\)]', '', ingredient)\n",
        "    return cleaned_ingredient\n",
        "df['Cleaned-Ingredients'] = df['Cleaned-Ingredients'].apply(lambda x: ','.join([clean_ingredients(ingredient) for ingredient in x.split(',')]))\n"
      ],
      "metadata": {
        "colab": {
          "base_uri": "https://localhost:8080/"
        },
        "id": "MHylG9Hj2J9X",
        "outputId": "cb1ab8fd-7452-48ed-b5d5-427f0cc55257"
      },
      "execution_count": 17,
      "outputs": [
        {
          "output_type": "stream",
          "name": "stderr",
          "text": [
            "<ipython-input-17-d02c5a474ed5>:7: SettingWithCopyWarning: \n",
            "A value is trying to be set on a copy of a slice from a DataFrame.\n",
            "Try using .loc[row_indexer,col_indexer] = value instead\n",
            "\n",
            "See the caveats in the documentation: https://pandas.pydata.org/pandas-docs/stable/user_guide/indexing.html#returning-a-view-versus-a-copy\n",
            "  df['Cleaned-Ingredients'] = df['Cleaned-Ingredients'].apply(lambda x: ','.join([clean_ingredients(ingredient) for ingredient in x.split(',')]))\n"
          ]
        }
      ]
    },
    {
      "cell_type": "code",
      "source": [],
      "metadata": {
        "id": "fRn7khkyyzdz"
      },
      "execution_count": 17,
      "outputs": []
    },
    {
      "cell_type": "code",
      "source": [
        "df.sample\n"
      ],
      "metadata": {
        "colab": {
          "base_uri": "https://localhost:8080/"
        },
        "id": "KpAYH9_Ny5Zo",
        "outputId": "fb5d425b-e7e3-4d15-d666-bcd39f22b93d"
      },
      "execution_count": 18,
      "outputs": [
        {
          "output_type": "execute_result",
          "data": {
            "text/plain": [
              "<bound method NDFrame.sample of       FoodID                               TranslatedRecipeName  \\\n",
              "0        100                               Masala Karela Recipe   \n",
              "1        101                         Spicy Tomato Rice (Recipe)   \n",
              "2        102  Ragi Semiya Upma Recipe - Ragi Millet Vermicel...   \n",
              "3        103  Gongura Chicken Curry Recipe - Andhra Style Go...   \n",
              "4        104  Andhra Style Alam Pachadi Recipe - Adrak Chutn...   \n",
              "...      ...                                                ...   \n",
              "6033      96                       Brown Sugar Oatmeal Pancakes   \n",
              "6034      97                                 Lime Chicken Tacos   \n",
              "6035      98                       Quick Cream of Mushroom Soup   \n",
              "6036      99                               Egg Roll Noodle Bowl   \n",
              "6037     100                      Mamaw Emily’s Strawberry Cake   \n",
              "\n",
              "                   Cuisine                                Cleaned-Ingredients  \n",
              "0                   Indian  salt,amchurdrymangopowder,karelabittergourdpav...  \n",
              "1     South Indian Recipes  tomato,salt,chickpealentils,greenchilli,rice,m...  \n",
              "2     South Indian Recipes  salt,ricevermicellinoodlesthin,asafoetidahing,...  \n",
              "3                   Andhra  tomato,salt,ginger,sorrelleavesgongura,fennels...  \n",
              "4                   Andhra  tomato,salt,ginger,redchillies,curry,asafoetid...  \n",
              "...                    ...                                                ...  \n",
              "6033              American       flour,brownsugar,bakingpowder,milk,eggs,oats  \n",
              "6034              American          chicken,lime,cumin,salsa,cheese,tortillas  \n",
              "6035              American            onion,garlic,mushrooms,broth,milk,flour  \n",
              "6036              American  ramennoodles,cabbage,carrot,eggs,soysauce,sesa...  \n",
              "6037              American        whitecakemix,strawberries,sugar,butter,eggs  \n",
              "\n",
              "[6038 rows x 4 columns]>"
            ]
          },
          "metadata": {},
          "execution_count": 18
        }
      ]
    },
    {
      "cell_type": "code",
      "source": [
        "#redundant\n",
        "#df['Cleaned-Ingredients'] = df['Cleaned-Ingredients'].apply(lambda x: ','.join([word.replace(\" \", \"\") for word in x]))\n"
      ],
      "metadata": {
        "id": "J6RE6vpczQB_"
      },
      "execution_count": 19,
      "outputs": []
    },
    {
      "cell_type": "code",
      "source": [
        "#abc def -> abcdef   -redundant\n",
        "#df['Cleaned-Ingredients'] = df['Cleaned-Ingredients'].apply(lambda x: [i.replace(\" \", \"\") for i in x])"
      ],
      "metadata": {
        "id": "trORd79TwcNO"
      },
      "execution_count": 20,
      "outputs": []
    },
    {
      "cell_type": "code",
      "source": [
        "#remove ()  -redundant\n",
        "# df['Cleaned-Ingredients'] = df['Cleaned-Ingredients'].str.replace(r'\\(|\\)', '', regex=True)\n"
      ],
      "metadata": {
        "id": "zNeWrMGr_pv5"
      },
      "execution_count": 21,
      "outputs": []
    },
    {
      "cell_type": "code",
      "source": [
        "df.sample"
      ],
      "metadata": {
        "colab": {
          "base_uri": "https://localhost:8080/"
        },
        "id": "hcug794R_0R4",
        "outputId": "d53b306c-4c21-4e64-8323-602071231d87"
      },
      "execution_count": 22,
      "outputs": [
        {
          "output_type": "execute_result",
          "data": {
            "text/plain": [
              "<bound method NDFrame.sample of       FoodID                               TranslatedRecipeName  \\\n",
              "0        100                               Masala Karela Recipe   \n",
              "1        101                         Spicy Tomato Rice (Recipe)   \n",
              "2        102  Ragi Semiya Upma Recipe - Ragi Millet Vermicel...   \n",
              "3        103  Gongura Chicken Curry Recipe - Andhra Style Go...   \n",
              "4        104  Andhra Style Alam Pachadi Recipe - Adrak Chutn...   \n",
              "...      ...                                                ...   \n",
              "6033      96                       Brown Sugar Oatmeal Pancakes   \n",
              "6034      97                                 Lime Chicken Tacos   \n",
              "6035      98                       Quick Cream of Mushroom Soup   \n",
              "6036      99                               Egg Roll Noodle Bowl   \n",
              "6037     100                      Mamaw Emily’s Strawberry Cake   \n",
              "\n",
              "                   Cuisine                                Cleaned-Ingredients  \n",
              "0                   Indian  salt,amchurdrymangopowder,karelabittergourdpav...  \n",
              "1     South Indian Recipes  tomato,salt,chickpealentils,greenchilli,rice,m...  \n",
              "2     South Indian Recipes  salt,ricevermicellinoodlesthin,asafoetidahing,...  \n",
              "3                   Andhra  tomato,salt,ginger,sorrelleavesgongura,fennels...  \n",
              "4                   Andhra  tomato,salt,ginger,redchillies,curry,asafoetid...  \n",
              "...                    ...                                                ...  \n",
              "6033              American       flour,brownsugar,bakingpowder,milk,eggs,oats  \n",
              "6034              American          chicken,lime,cumin,salsa,cheese,tortillas  \n",
              "6035              American            onion,garlic,mushrooms,broth,milk,flour  \n",
              "6036              American  ramennoodles,cabbage,carrot,eggs,soysauce,sesa...  \n",
              "6037              American        whitecakemix,strawberries,sugar,butter,eggs  \n",
              "\n",
              "[6038 rows x 4 columns]>"
            ]
          },
          "metadata": {},
          "execution_count": 22
        }
      ]
    },
    {
      "cell_type": "code",
      "source": [
        "#creating array\n",
        "df['Cleaned-Ingredients'] = df['Cleaned-Ingredients'].apply(lambda x: x.split())\n"
      ],
      "metadata": {
        "colab": {
          "base_uri": "https://localhost:8080/"
        },
        "id": "mkgZAuQM_38w",
        "outputId": "af17e723-9ff8-453d-a383-427a51a4a5b2"
      },
      "execution_count": 23,
      "outputs": [
        {
          "output_type": "stream",
          "name": "stderr",
          "text": [
            "<ipython-input-23-d9f20a0c3ff3>:2: SettingWithCopyWarning: \n",
            "A value is trying to be set on a copy of a slice from a DataFrame.\n",
            "Try using .loc[row_indexer,col_indexer] = value instead\n",
            "\n",
            "See the caveats in the documentation: https://pandas.pydata.org/pandas-docs/stable/user_guide/indexing.html#returning-a-view-versus-a-copy\n",
            "  df['Cleaned-Ingredients'] = df['Cleaned-Ingredients'].apply(lambda x: x.split())\n"
          ]
        }
      ]
    },
    {
      "cell_type": "code",
      "source": [],
      "metadata": {
        "id": "RCDyfwJRI4IF"
      },
      "execution_count": 23,
      "outputs": []
    },
    {
      "cell_type": "code",
      "source": [
        "df.sample"
      ],
      "metadata": {
        "colab": {
          "base_uri": "https://localhost:8080/"
        },
        "id": "3j6sNFk8ANVY",
        "outputId": "05b401c6-efb1-4132-9a7b-487797bf0cfc"
      },
      "execution_count": 24,
      "outputs": [
        {
          "output_type": "execute_result",
          "data": {
            "text/plain": [
              "<bound method NDFrame.sample of       FoodID                               TranslatedRecipeName  \\\n",
              "0        100                               Masala Karela Recipe   \n",
              "1        101                         Spicy Tomato Rice (Recipe)   \n",
              "2        102  Ragi Semiya Upma Recipe - Ragi Millet Vermicel...   \n",
              "3        103  Gongura Chicken Curry Recipe - Andhra Style Go...   \n",
              "4        104  Andhra Style Alam Pachadi Recipe - Adrak Chutn...   \n",
              "...      ...                                                ...   \n",
              "6033      96                       Brown Sugar Oatmeal Pancakes   \n",
              "6034      97                                 Lime Chicken Tacos   \n",
              "6035      98                       Quick Cream of Mushroom Soup   \n",
              "6036      99                               Egg Roll Noodle Bowl   \n",
              "6037     100                      Mamaw Emily’s Strawberry Cake   \n",
              "\n",
              "                   Cuisine                                Cleaned-Ingredients  \n",
              "0                   Indian  [salt,amchurdrymangopowder,karelabittergourdpa...  \n",
              "1     South Indian Recipes  [tomato,salt,chickpealentils,greenchilli,rice,...  \n",
              "2     South Indian Recipes  [salt,ricevermicellinoodlesthin,asafoetidahing...  \n",
              "3                   Andhra  [tomato,salt,ginger,sorrelleavesgongura,fennel...  \n",
              "4                   Andhra  [tomato,salt,ginger,redchillies,curry,asafoeti...  \n",
              "...                    ...                                                ...  \n",
              "6033              American     [flour,brownsugar,bakingpowder,milk,eggs,oats]  \n",
              "6034              American        [chicken,lime,cumin,salsa,cheese,tortillas]  \n",
              "6035              American          [onion,garlic,mushrooms,broth,milk,flour]  \n",
              "6036              American  [ramennoodles,cabbage,carrot,eggs,soysauce,ses...  \n",
              "6037              American      [whitecakemix,strawberries,sugar,butter,eggs]  \n",
              "\n",
              "[6038 rows x 4 columns]>"
            ]
          },
          "metadata": {},
          "execution_count": 24
        }
      ]
    },
    {
      "cell_type": "code",
      "source": [
        "#for cuisine\n",
        "df['Cuisine'] = df['Cuisine'].apply(lambda x: ','.join([clean_ingredients(ingredient) for ingredient in x.split(',')]))\n",
        "#array\n"
      ],
      "metadata": {
        "colab": {
          "base_uri": "https://localhost:8080/"
        },
        "id": "XntHSuSwAY8W",
        "outputId": "8ba65759-805b-4a51-e6c9-75c45767bfbd"
      },
      "execution_count": 25,
      "outputs": [
        {
          "output_type": "stream",
          "name": "stderr",
          "text": [
            "<ipython-input-25-a0506e03271b>:2: SettingWithCopyWarning: \n",
            "A value is trying to be set on a copy of a slice from a DataFrame.\n",
            "Try using .loc[row_indexer,col_indexer] = value instead\n",
            "\n",
            "See the caveats in the documentation: https://pandas.pydata.org/pandas-docs/stable/user_guide/indexing.html#returning-a-view-versus-a-copy\n",
            "  df['Cuisine'] = df['Cuisine'].apply(lambda x: ','.join([clean_ingredients(ingredient) for ingredient in x.split(',')]))\n"
          ]
        }
      ]
    },
    {
      "cell_type": "code",
      "source": [
        "df.sample\n"
      ],
      "metadata": {
        "id": "xRTfRzD8JIuQ",
        "colab": {
          "base_uri": "https://localhost:8080/"
        },
        "outputId": "2e915f19-094b-4945-e523-22d26d292166"
      },
      "execution_count": 26,
      "outputs": [
        {
          "output_type": "execute_result",
          "data": {
            "text/plain": [
              "<bound method NDFrame.sample of       FoodID                               TranslatedRecipeName  \\\n",
              "0        100                               Masala Karela Recipe   \n",
              "1        101                         Spicy Tomato Rice (Recipe)   \n",
              "2        102  Ragi Semiya Upma Recipe - Ragi Millet Vermicel...   \n",
              "3        103  Gongura Chicken Curry Recipe - Andhra Style Go...   \n",
              "4        104  Andhra Style Alam Pachadi Recipe - Adrak Chutn...   \n",
              "...      ...                                                ...   \n",
              "6033      96                       Brown Sugar Oatmeal Pancakes   \n",
              "6034      97                                 Lime Chicken Tacos   \n",
              "6035      98                       Quick Cream of Mushroom Soup   \n",
              "6036      99                               Egg Roll Noodle Bowl   \n",
              "6037     100                      Mamaw Emily’s Strawberry Cake   \n",
              "\n",
              "                 Cuisine                                Cleaned-Ingredients  \n",
              "0                 Indian  [salt,amchurdrymangopowder,karelabittergourdpa...  \n",
              "1     SouthIndianRecipes  [tomato,salt,chickpealentils,greenchilli,rice,...  \n",
              "2     SouthIndianRecipes  [salt,ricevermicellinoodlesthin,asafoetidahing...  \n",
              "3                 Andhra  [tomato,salt,ginger,sorrelleavesgongura,fennel...  \n",
              "4                 Andhra  [tomato,salt,ginger,redchillies,curry,asafoeti...  \n",
              "...                  ...                                                ...  \n",
              "6033            American     [flour,brownsugar,bakingpowder,milk,eggs,oats]  \n",
              "6034            American        [chicken,lime,cumin,salsa,cheese,tortillas]  \n",
              "6035            American          [onion,garlic,mushrooms,broth,milk,flour]  \n",
              "6036            American  [ramennoodles,cabbage,carrot,eggs,soysauce,ses...  \n",
              "6037            American      [whitecakemix,strawberries,sugar,butter,eggs]  \n",
              "\n",
              "[6038 rows x 4 columns]>"
            ]
          },
          "metadata": {},
          "execution_count": 26
        }
      ]
    },
    {
      "cell_type": "code",
      "source": [
        "#array for cuisine\n",
        "df['Cuisine'] = df['Cuisine'].apply(lambda x: x.split())\n"
      ],
      "metadata": {
        "colab": {
          "base_uri": "https://localhost:8080/"
        },
        "id": "67UtmCUq3jv0",
        "outputId": "b9eb53ad-de87-425e-a1dc-5e525a50e063"
      },
      "execution_count": 27,
      "outputs": [
        {
          "output_type": "stream",
          "name": "stderr",
          "text": [
            "<ipython-input-27-04436b234119>:2: SettingWithCopyWarning: \n",
            "A value is trying to be set on a copy of a slice from a DataFrame.\n",
            "Try using .loc[row_indexer,col_indexer] = value instead\n",
            "\n",
            "See the caveats in the documentation: https://pandas.pydata.org/pandas-docs/stable/user_guide/indexing.html#returning-a-view-versus-a-copy\n",
            "  df['Cuisine'] = df['Cuisine'].apply(lambda x: x.split())\n"
          ]
        }
      ]
    },
    {
      "cell_type": "code",
      "source": [
        "df.sample"
      ],
      "metadata": {
        "colab": {
          "base_uri": "https://localhost:8080/"
        },
        "id": "zaTyJcRp30Ac",
        "outputId": "6af29389-454b-400b-9940-170ab4858b88"
      },
      "execution_count": 28,
      "outputs": [
        {
          "output_type": "execute_result",
          "data": {
            "text/plain": [
              "<bound method NDFrame.sample of       FoodID                               TranslatedRecipeName  \\\n",
              "0        100                               Masala Karela Recipe   \n",
              "1        101                         Spicy Tomato Rice (Recipe)   \n",
              "2        102  Ragi Semiya Upma Recipe - Ragi Millet Vermicel...   \n",
              "3        103  Gongura Chicken Curry Recipe - Andhra Style Go...   \n",
              "4        104  Andhra Style Alam Pachadi Recipe - Adrak Chutn...   \n",
              "...      ...                                                ...   \n",
              "6033      96                       Brown Sugar Oatmeal Pancakes   \n",
              "6034      97                                 Lime Chicken Tacos   \n",
              "6035      98                       Quick Cream of Mushroom Soup   \n",
              "6036      99                               Egg Roll Noodle Bowl   \n",
              "6037     100                      Mamaw Emily’s Strawberry Cake   \n",
              "\n",
              "                   Cuisine                                Cleaned-Ingredients  \n",
              "0                 [Indian]  [salt,amchurdrymangopowder,karelabittergourdpa...  \n",
              "1     [SouthIndianRecipes]  [tomato,salt,chickpealentils,greenchilli,rice,...  \n",
              "2     [SouthIndianRecipes]  [salt,ricevermicellinoodlesthin,asafoetidahing...  \n",
              "3                 [Andhra]  [tomato,salt,ginger,sorrelleavesgongura,fennel...  \n",
              "4                 [Andhra]  [tomato,salt,ginger,redchillies,curry,asafoeti...  \n",
              "...                    ...                                                ...  \n",
              "6033            [American]     [flour,brownsugar,bakingpowder,milk,eggs,oats]  \n",
              "6034            [American]        [chicken,lime,cumin,salsa,cheese,tortillas]  \n",
              "6035            [American]          [onion,garlic,mushrooms,broth,milk,flour]  \n",
              "6036            [American]  [ramennoodles,cabbage,carrot,eggs,soysauce,ses...  \n",
              "6037            [American]      [whitecakemix,strawberries,sugar,butter,eggs]  \n",
              "\n",
              "[6038 rows x 4 columns]>"
            ]
          },
          "metadata": {},
          "execution_count": 28
        }
      ]
    },
    {
      "cell_type": "code",
      "source": [
        "#removing items\n",
        "remove_array = ['salt', 'sugar']\n",
        "df['Cleaned-Ingredients'] = df['Cleaned-Ingredients'].apply(lambda x: [item for item in x if item not in remove_array])\n"
      ],
      "metadata": {
        "colab": {
          "base_uri": "https://localhost:8080/"
        },
        "id": "B3uQa7cv32bU",
        "outputId": "7b6dc197-a313-4454-bd5d-f3c7c3fef2e5"
      },
      "execution_count": 29,
      "outputs": [
        {
          "output_type": "stream",
          "name": "stderr",
          "text": [
            "<ipython-input-29-895d1c592aa5>:3: SettingWithCopyWarning: \n",
            "A value is trying to be set on a copy of a slice from a DataFrame.\n",
            "Try using .loc[row_indexer,col_indexer] = value instead\n",
            "\n",
            "See the caveats in the documentation: https://pandas.pydata.org/pandas-docs/stable/user_guide/indexing.html#returning-a-view-versus-a-copy\n",
            "  df['Cleaned-Ingredients'] = df['Cleaned-Ingredients'].apply(lambda x: [item for item in x if item not in remove_array])\n"
          ]
        }
      ]
    },
    {
      "cell_type": "code",
      "source": [
        "df.sample"
      ],
      "metadata": {
        "colab": {
          "base_uri": "https://localhost:8080/"
        },
        "id": "f6OzMi4F5jFJ",
        "outputId": "d1f7d16c-c8ca-45f3-8dc5-972ddea321cd"
      },
      "execution_count": 30,
      "outputs": [
        {
          "output_type": "execute_result",
          "data": {
            "text/plain": [
              "<bound method NDFrame.sample of       FoodID                               TranslatedRecipeName  \\\n",
              "0        100                               Masala Karela Recipe   \n",
              "1        101                         Spicy Tomato Rice (Recipe)   \n",
              "2        102  Ragi Semiya Upma Recipe - Ragi Millet Vermicel...   \n",
              "3        103  Gongura Chicken Curry Recipe - Andhra Style Go...   \n",
              "4        104  Andhra Style Alam Pachadi Recipe - Adrak Chutn...   \n",
              "...      ...                                                ...   \n",
              "6033      96                       Brown Sugar Oatmeal Pancakes   \n",
              "6034      97                                 Lime Chicken Tacos   \n",
              "6035      98                       Quick Cream of Mushroom Soup   \n",
              "6036      99                               Egg Roll Noodle Bowl   \n",
              "6037     100                      Mamaw Emily’s Strawberry Cake   \n",
              "\n",
              "                   Cuisine                                Cleaned-Ingredients  \n",
              "0                 [Indian]  [salt,amchurdrymangopowder,karelabittergourdpa...  \n",
              "1     [SouthIndianRecipes]  [tomato,salt,chickpealentils,greenchilli,rice,...  \n",
              "2     [SouthIndianRecipes]  [salt,ricevermicellinoodlesthin,asafoetidahing...  \n",
              "3                 [Andhra]  [tomato,salt,ginger,sorrelleavesgongura,fennel...  \n",
              "4                 [Andhra]  [tomato,salt,ginger,redchillies,curry,asafoeti...  \n",
              "...                    ...                                                ...  \n",
              "6033            [American]     [flour,brownsugar,bakingpowder,milk,eggs,oats]  \n",
              "6034            [American]        [chicken,lime,cumin,salsa,cheese,tortillas]  \n",
              "6035            [American]          [onion,garlic,mushrooms,broth,milk,flour]  \n",
              "6036            [American]  [ramennoodles,cabbage,carrot,eggs,soysauce,ses...  \n",
              "6037            [American]      [whitecakemix,strawberries,sugar,butter,eggs]  \n",
              "\n",
              "[6038 rows x 4 columns]>"
            ]
          },
          "metadata": {},
          "execution_count": 30
        }
      ]
    },
    {
      "cell_type": "markdown",
      "source": [
        "joining Cuisine and Cleaned-Ingredients  as tags"
      ],
      "metadata": {
        "id": "Ovl4ltSX4ILF"
      }
    },
    {
      "cell_type": "code",
      "source": [
        "df['keywords'] = df['Cleaned-Ingredients'] + df['Cuisine']"
      ],
      "metadata": {
        "colab": {
          "base_uri": "https://localhost:8080/"
        },
        "id": "CVXO3NUa4Ntr",
        "outputId": "f7c2639b-15be-48ed-a770-867d03174323"
      },
      "execution_count": 31,
      "outputs": [
        {
          "output_type": "stream",
          "name": "stderr",
          "text": [
            "<ipython-input-31-5f9d7f0041d0>:1: SettingWithCopyWarning: \n",
            "A value is trying to be set on a copy of a slice from a DataFrame.\n",
            "Try using .loc[row_indexer,col_indexer] = value instead\n",
            "\n",
            "See the caveats in the documentation: https://pandas.pydata.org/pandas-docs/stable/user_guide/indexing.html#returning-a-view-versus-a-copy\n",
            "  df['keywords'] = df['Cleaned-Ingredients'] + df['Cuisine']\n"
          ]
        }
      ]
    },
    {
      "cell_type": "code",
      "source": [
        "df.head()"
      ],
      "metadata": {
        "colab": {
          "base_uri": "https://localhost:8080/",
          "height": 348
        },
        "id": "g0tjc1z06ROZ",
        "outputId": "20d645b3-2171-44ca-fc82-656bb89fd9bf"
      },
      "execution_count": 32,
      "outputs": [
        {
          "output_type": "execute_result",
          "data": {
            "text/plain": [
              "   FoodID                               TranslatedRecipeName  \\\n",
              "0     100                               Masala Karela Recipe   \n",
              "1     101                         Spicy Tomato Rice (Recipe)   \n",
              "2     102  Ragi Semiya Upma Recipe - Ragi Millet Vermicel...   \n",
              "3     103  Gongura Chicken Curry Recipe - Andhra Style Go...   \n",
              "4     104  Andhra Style Alam Pachadi Recipe - Adrak Chutn...   \n",
              "\n",
              "                Cuisine                                Cleaned-Ingredients  \\\n",
              "0              [Indian]  [salt,amchurdrymangopowder,karelabittergourdpa...   \n",
              "1  [SouthIndianRecipes]  [tomato,salt,chickpealentils,greenchilli,rice,...   \n",
              "2  [SouthIndianRecipes]  [salt,ricevermicellinoodlesthin,asafoetidahing...   \n",
              "3              [Andhra]  [tomato,salt,ginger,sorrelleavesgongura,fennel...   \n",
              "4              [Andhra]  [tomato,salt,ginger,redchillies,curry,asafoeti...   \n",
              "\n",
              "                                            keywords  \n",
              "0  [salt,amchurdrymangopowder,karelabittergourdpa...  \n",
              "1  [tomato,salt,chickpealentils,greenchilli,rice,...  \n",
              "2  [salt,ricevermicellinoodlesthin,asafoetidahing...  \n",
              "3  [tomato,salt,ginger,sorrelleavesgongura,fennel...  \n",
              "4  [tomato,salt,ginger,redchillies,curry,asafoeti...  "
            ],
            "text/html": [
              "\n",
              "  <div id=\"df-b978a055-3b48-4b0a-9ba0-bc044549a406\" class=\"colab-df-container\">\n",
              "    <div>\n",
              "<style scoped>\n",
              "    .dataframe tbody tr th:only-of-type {\n",
              "        vertical-align: middle;\n",
              "    }\n",
              "\n",
              "    .dataframe tbody tr th {\n",
              "        vertical-align: top;\n",
              "    }\n",
              "\n",
              "    .dataframe thead th {\n",
              "        text-align: right;\n",
              "    }\n",
              "</style>\n",
              "<table border=\"1\" class=\"dataframe\">\n",
              "  <thead>\n",
              "    <tr style=\"text-align: right;\">\n",
              "      <th></th>\n",
              "      <th>FoodID</th>\n",
              "      <th>TranslatedRecipeName</th>\n",
              "      <th>Cuisine</th>\n",
              "      <th>Cleaned-Ingredients</th>\n",
              "      <th>keywords</th>\n",
              "    </tr>\n",
              "  </thead>\n",
              "  <tbody>\n",
              "    <tr>\n",
              "      <th>0</th>\n",
              "      <td>100</td>\n",
              "      <td>Masala Karela Recipe</td>\n",
              "      <td>[Indian]</td>\n",
              "      <td>[salt,amchurdrymangopowder,karelabittergourdpa...</td>\n",
              "      <td>[salt,amchurdrymangopowder,karelabittergourdpa...</td>\n",
              "    </tr>\n",
              "    <tr>\n",
              "      <th>1</th>\n",
              "      <td>101</td>\n",
              "      <td>Spicy Tomato Rice (Recipe)</td>\n",
              "      <td>[SouthIndianRecipes]</td>\n",
              "      <td>[tomato,salt,chickpealentils,greenchilli,rice,...</td>\n",
              "      <td>[tomato,salt,chickpealentils,greenchilli,rice,...</td>\n",
              "    </tr>\n",
              "    <tr>\n",
              "      <th>2</th>\n",
              "      <td>102</td>\n",
              "      <td>Ragi Semiya Upma Recipe - Ragi Millet Vermicel...</td>\n",
              "      <td>[SouthIndianRecipes]</td>\n",
              "      <td>[salt,ricevermicellinoodlesthin,asafoetidahing...</td>\n",
              "      <td>[salt,ricevermicellinoodlesthin,asafoetidahing...</td>\n",
              "    </tr>\n",
              "    <tr>\n",
              "      <th>3</th>\n",
              "      <td>103</td>\n",
              "      <td>Gongura Chicken Curry Recipe - Andhra Style Go...</td>\n",
              "      <td>[Andhra]</td>\n",
              "      <td>[tomato,salt,ginger,sorrelleavesgongura,fennel...</td>\n",
              "      <td>[tomato,salt,ginger,sorrelleavesgongura,fennel...</td>\n",
              "    </tr>\n",
              "    <tr>\n",
              "      <th>4</th>\n",
              "      <td>104</td>\n",
              "      <td>Andhra Style Alam Pachadi Recipe - Adrak Chutn...</td>\n",
              "      <td>[Andhra]</td>\n",
              "      <td>[tomato,salt,ginger,redchillies,curry,asafoeti...</td>\n",
              "      <td>[tomato,salt,ginger,redchillies,curry,asafoeti...</td>\n",
              "    </tr>\n",
              "  </tbody>\n",
              "</table>\n",
              "</div>\n",
              "    <div class=\"colab-df-buttons\">\n",
              "\n",
              "  <div class=\"colab-df-container\">\n",
              "    <button class=\"colab-df-convert\" onclick=\"convertToInteractive('df-b978a055-3b48-4b0a-9ba0-bc044549a406')\"\n",
              "            title=\"Convert this dataframe to an interactive table.\"\n",
              "            style=\"display:none;\">\n",
              "\n",
              "  <svg xmlns=\"http://www.w3.org/2000/svg\" height=\"24px\" viewBox=\"0 -960 960 960\">\n",
              "    <path d=\"M120-120v-720h720v720H120Zm60-500h600v-160H180v160Zm220 220h160v-160H400v160Zm0 220h160v-160H400v160ZM180-400h160v-160H180v160Zm440 0h160v-160H620v160ZM180-180h160v-160H180v160Zm440 0h160v-160H620v160Z\"/>\n",
              "  </svg>\n",
              "    </button>\n",
              "\n",
              "  <style>\n",
              "    .colab-df-container {\n",
              "      display:flex;\n",
              "      gap: 12px;\n",
              "    }\n",
              "\n",
              "    .colab-df-convert {\n",
              "      background-color: #E8F0FE;\n",
              "      border: none;\n",
              "      border-radius: 50%;\n",
              "      cursor: pointer;\n",
              "      display: none;\n",
              "      fill: #1967D2;\n",
              "      height: 32px;\n",
              "      padding: 0 0 0 0;\n",
              "      width: 32px;\n",
              "    }\n",
              "\n",
              "    .colab-df-convert:hover {\n",
              "      background-color: #E2EBFA;\n",
              "      box-shadow: 0px 1px 2px rgba(60, 64, 67, 0.3), 0px 1px 3px 1px rgba(60, 64, 67, 0.15);\n",
              "      fill: #174EA6;\n",
              "    }\n",
              "\n",
              "    .colab-df-buttons div {\n",
              "      margin-bottom: 4px;\n",
              "    }\n",
              "\n",
              "    [theme=dark] .colab-df-convert {\n",
              "      background-color: #3B4455;\n",
              "      fill: #D2E3FC;\n",
              "    }\n",
              "\n",
              "    [theme=dark] .colab-df-convert:hover {\n",
              "      background-color: #434B5C;\n",
              "      box-shadow: 0px 1px 3px 1px rgba(0, 0, 0, 0.15);\n",
              "      filter: drop-shadow(0px 1px 2px rgba(0, 0, 0, 0.3));\n",
              "      fill: #FFFFFF;\n",
              "    }\n",
              "  </style>\n",
              "\n",
              "    <script>\n",
              "      const buttonEl =\n",
              "        document.querySelector('#df-b978a055-3b48-4b0a-9ba0-bc044549a406 button.colab-df-convert');\n",
              "      buttonEl.style.display =\n",
              "        google.colab.kernel.accessAllowed ? 'block' : 'none';\n",
              "\n",
              "      async function convertToInteractive(key) {\n",
              "        const element = document.querySelector('#df-b978a055-3b48-4b0a-9ba0-bc044549a406');\n",
              "        const dataTable =\n",
              "          await google.colab.kernel.invokeFunction('convertToInteractive',\n",
              "                                                    [key], {});\n",
              "        if (!dataTable) return;\n",
              "\n",
              "        const docLinkHtml = 'Like what you see? Visit the ' +\n",
              "          '<a target=\"_blank\" href=https://colab.research.google.com/notebooks/data_table.ipynb>data table notebook</a>'\n",
              "          + ' to learn more about interactive tables.';\n",
              "        element.innerHTML = '';\n",
              "        dataTable['output_type'] = 'display_data';\n",
              "        await google.colab.output.renderOutput(dataTable, element);\n",
              "        const docLink = document.createElement('div');\n",
              "        docLink.innerHTML = docLinkHtml;\n",
              "        element.appendChild(docLink);\n",
              "      }\n",
              "    </script>\n",
              "  </div>\n",
              "\n",
              "\n",
              "<div id=\"df-bbc4b03f-bdcf-48fa-8d40-6878042f8170\">\n",
              "  <button class=\"colab-df-quickchart\" onclick=\"quickchart('df-bbc4b03f-bdcf-48fa-8d40-6878042f8170')\"\n",
              "            title=\"Suggest charts\"\n",
              "            style=\"display:none;\">\n",
              "\n",
              "<svg xmlns=\"http://www.w3.org/2000/svg\" height=\"24px\"viewBox=\"0 0 24 24\"\n",
              "     width=\"24px\">\n",
              "    <g>\n",
              "        <path d=\"M19 3H5c-1.1 0-2 .9-2 2v14c0 1.1.9 2 2 2h14c1.1 0 2-.9 2-2V5c0-1.1-.9-2-2-2zM9 17H7v-7h2v7zm4 0h-2V7h2v10zm4 0h-2v-4h2v4z\"/>\n",
              "    </g>\n",
              "</svg>\n",
              "  </button>\n",
              "\n",
              "<style>\n",
              "  .colab-df-quickchart {\n",
              "      --bg-color: #E8F0FE;\n",
              "      --fill-color: #1967D2;\n",
              "      --hover-bg-color: #E2EBFA;\n",
              "      --hover-fill-color: #174EA6;\n",
              "      --disabled-fill-color: #AAA;\n",
              "      --disabled-bg-color: #DDD;\n",
              "  }\n",
              "\n",
              "  [theme=dark] .colab-df-quickchart {\n",
              "      --bg-color: #3B4455;\n",
              "      --fill-color: #D2E3FC;\n",
              "      --hover-bg-color: #434B5C;\n",
              "      --hover-fill-color: #FFFFFF;\n",
              "      --disabled-bg-color: #3B4455;\n",
              "      --disabled-fill-color: #666;\n",
              "  }\n",
              "\n",
              "  .colab-df-quickchart {\n",
              "    background-color: var(--bg-color);\n",
              "    border: none;\n",
              "    border-radius: 50%;\n",
              "    cursor: pointer;\n",
              "    display: none;\n",
              "    fill: var(--fill-color);\n",
              "    height: 32px;\n",
              "    padding: 0;\n",
              "    width: 32px;\n",
              "  }\n",
              "\n",
              "  .colab-df-quickchart:hover {\n",
              "    background-color: var(--hover-bg-color);\n",
              "    box-shadow: 0 1px 2px rgba(60, 64, 67, 0.3), 0 1px 3px 1px rgba(60, 64, 67, 0.15);\n",
              "    fill: var(--button-hover-fill-color);\n",
              "  }\n",
              "\n",
              "  .colab-df-quickchart-complete:disabled,\n",
              "  .colab-df-quickchart-complete:disabled:hover {\n",
              "    background-color: var(--disabled-bg-color);\n",
              "    fill: var(--disabled-fill-color);\n",
              "    box-shadow: none;\n",
              "  }\n",
              "\n",
              "  .colab-df-spinner {\n",
              "    border: 2px solid var(--fill-color);\n",
              "    border-color: transparent;\n",
              "    border-bottom-color: var(--fill-color);\n",
              "    animation:\n",
              "      spin 1s steps(1) infinite;\n",
              "  }\n",
              "\n",
              "  @keyframes spin {\n",
              "    0% {\n",
              "      border-color: transparent;\n",
              "      border-bottom-color: var(--fill-color);\n",
              "      border-left-color: var(--fill-color);\n",
              "    }\n",
              "    20% {\n",
              "      border-color: transparent;\n",
              "      border-left-color: var(--fill-color);\n",
              "      border-top-color: var(--fill-color);\n",
              "    }\n",
              "    30% {\n",
              "      border-color: transparent;\n",
              "      border-left-color: var(--fill-color);\n",
              "      border-top-color: var(--fill-color);\n",
              "      border-right-color: var(--fill-color);\n",
              "    }\n",
              "    40% {\n",
              "      border-color: transparent;\n",
              "      border-right-color: var(--fill-color);\n",
              "      border-top-color: var(--fill-color);\n",
              "    }\n",
              "    60% {\n",
              "      border-color: transparent;\n",
              "      border-right-color: var(--fill-color);\n",
              "    }\n",
              "    80% {\n",
              "      border-color: transparent;\n",
              "      border-right-color: var(--fill-color);\n",
              "      border-bottom-color: var(--fill-color);\n",
              "    }\n",
              "    90% {\n",
              "      border-color: transparent;\n",
              "      border-bottom-color: var(--fill-color);\n",
              "    }\n",
              "  }\n",
              "</style>\n",
              "\n",
              "  <script>\n",
              "    async function quickchart(key) {\n",
              "      const quickchartButtonEl =\n",
              "        document.querySelector('#' + key + ' button');\n",
              "      quickchartButtonEl.disabled = true;  // To prevent multiple clicks.\n",
              "      quickchartButtonEl.classList.add('colab-df-spinner');\n",
              "      try {\n",
              "        const charts = await google.colab.kernel.invokeFunction(\n",
              "            'suggestCharts', [key], {});\n",
              "      } catch (error) {\n",
              "        console.error('Error during call to suggestCharts:', error);\n",
              "      }\n",
              "      quickchartButtonEl.classList.remove('colab-df-spinner');\n",
              "      quickchartButtonEl.classList.add('colab-df-quickchart-complete');\n",
              "    }\n",
              "    (() => {\n",
              "      let quickchartButtonEl =\n",
              "        document.querySelector('#df-bbc4b03f-bdcf-48fa-8d40-6878042f8170 button');\n",
              "      quickchartButtonEl.style.display =\n",
              "        google.colab.kernel.accessAllowed ? 'block' : 'none';\n",
              "    })();\n",
              "  </script>\n",
              "</div>\n",
              "\n",
              "    </div>\n",
              "  </div>\n"
            ]
          },
          "metadata": {},
          "execution_count": 32
        }
      ]
    },
    {
      "cell_type": "code",
      "source": [
        "df['keywords'][0]"
      ],
      "metadata": {
        "colab": {
          "base_uri": "https://localhost:8080/"
        },
        "id": "4aiizunh6Tty",
        "outputId": "2bcabb25-7b23-4f92-ca84-d6721339b635"
      },
      "execution_count": 33,
      "outputs": [
        {
          "output_type": "execute_result",
          "data": {
            "text/plain": [
              "['salt,amchurdrymangopowder,karelabittergourdpavakkai,redchillipowder,gramflourbesan,onion,cuminseedsjeera,corianderpowder,turmericpowder,sunfloweroil',\n",
              " 'Indian']"
            ]
          },
          "metadata": {},
          "execution_count": 33
        }
      ]
    },
    {
      "cell_type": "code",
      "source": [
        "data_frame = df[['FoodID',\t'TranslatedRecipeName', 'keywords']]"
      ],
      "metadata": {
        "id": "9-thEtvW6z4c"
      },
      "execution_count": 34,
      "outputs": []
    },
    {
      "cell_type": "code",
      "source": [
        "data_frame.sample"
      ],
      "metadata": {
        "colab": {
          "base_uri": "https://localhost:8080/"
        },
        "id": "hekLWpRH7WXu",
        "outputId": "40ec99e6-33d1-42d8-e727-4e64bd2f6363"
      },
      "execution_count": 35,
      "outputs": [
        {
          "output_type": "execute_result",
          "data": {
            "text/plain": [
              "<bound method NDFrame.sample of       FoodID                               TranslatedRecipeName  \\\n",
              "0        100                               Masala Karela Recipe   \n",
              "1        101                         Spicy Tomato Rice (Recipe)   \n",
              "2        102  Ragi Semiya Upma Recipe - Ragi Millet Vermicel...   \n",
              "3        103  Gongura Chicken Curry Recipe - Andhra Style Go...   \n",
              "4        104  Andhra Style Alam Pachadi Recipe - Adrak Chutn...   \n",
              "...      ...                                                ...   \n",
              "6033      96                       Brown Sugar Oatmeal Pancakes   \n",
              "6034      97                                 Lime Chicken Tacos   \n",
              "6035      98                       Quick Cream of Mushroom Soup   \n",
              "6036      99                               Egg Roll Noodle Bowl   \n",
              "6037     100                      Mamaw Emily’s Strawberry Cake   \n",
              "\n",
              "                                               keywords  \n",
              "0     [salt,amchurdrymangopowder,karelabittergourdpa...  \n",
              "1     [tomato,salt,chickpealentils,greenchilli,rice,...  \n",
              "2     [salt,ricevermicellinoodlesthin,asafoetidahing...  \n",
              "3     [tomato,salt,ginger,sorrelleavesgongura,fennel...  \n",
              "4     [tomato,salt,ginger,redchillies,curry,asafoeti...  \n",
              "...                                                 ...  \n",
              "6033  [flour,brownsugar,bakingpowder,milk,eggs,oats,...  \n",
              "6034  [chicken,lime,cumin,salsa,cheese,tortillas, Am...  \n",
              "6035  [onion,garlic,mushrooms,broth,milk,flour, Amer...  \n",
              "6036  [ramennoodles,cabbage,carrot,eggs,soysauce,ses...  \n",
              "6037  [whitecakemix,strawberries,sugar,butter,eggs, ...  \n",
              "\n",
              "[6038 rows x 3 columns]>"
            ]
          },
          "metadata": {},
          "execution_count": 35
        }
      ]
    },
    {
      "cell_type": "code",
      "source": [
        "#list to string\n",
        "data_frame['keywords'] = data_frame['keywords'].apply(lambda x:\" \".join(x))"
      ],
      "metadata": {
        "colab": {
          "base_uri": "https://localhost:8080/"
        },
        "id": "Ebmc676P7ZqC",
        "outputId": "3bc13050-2553-4d9c-87f7-89465c57f9d9"
      },
      "execution_count": 36,
      "outputs": [
        {
          "output_type": "stream",
          "name": "stderr",
          "text": [
            "<ipython-input-36-582947342d05>:2: SettingWithCopyWarning: \n",
            "A value is trying to be set on a copy of a slice from a DataFrame.\n",
            "Try using .loc[row_indexer,col_indexer] = value instead\n",
            "\n",
            "See the caveats in the documentation: https://pandas.pydata.org/pandas-docs/stable/user_guide/indexing.html#returning-a-view-versus-a-copy\n",
            "  data_frame['keywords'] = data_frame['keywords'].apply(lambda x:\" \".join(x))\n"
          ]
        }
      ]
    },
    {
      "cell_type": "code",
      "source": [
        "data_frame.sample"
      ],
      "metadata": {
        "colab": {
          "base_uri": "https://localhost:8080/"
        },
        "id": "rjrs0FbG9cw-",
        "outputId": "56f25925-89ff-4fca-fefb-ebd52924c2df"
      },
      "execution_count": 37,
      "outputs": [
        {
          "output_type": "execute_result",
          "data": {
            "text/plain": [
              "<bound method NDFrame.sample of       FoodID                               TranslatedRecipeName  \\\n",
              "0        100                               Masala Karela Recipe   \n",
              "1        101                         Spicy Tomato Rice (Recipe)   \n",
              "2        102  Ragi Semiya Upma Recipe - Ragi Millet Vermicel...   \n",
              "3        103  Gongura Chicken Curry Recipe - Andhra Style Go...   \n",
              "4        104  Andhra Style Alam Pachadi Recipe - Adrak Chutn...   \n",
              "...      ...                                                ...   \n",
              "6033      96                       Brown Sugar Oatmeal Pancakes   \n",
              "6034      97                                 Lime Chicken Tacos   \n",
              "6035      98                       Quick Cream of Mushroom Soup   \n",
              "6036      99                               Egg Roll Noodle Bowl   \n",
              "6037     100                      Mamaw Emily’s Strawberry Cake   \n",
              "\n",
              "                                               keywords  \n",
              "0     salt,amchurdrymangopowder,karelabittergourdpav...  \n",
              "1     tomato,salt,chickpealentils,greenchilli,rice,m...  \n",
              "2     salt,ricevermicellinoodlesthin,asafoetidahing,...  \n",
              "3     tomato,salt,ginger,sorrelleavesgongura,fennels...  \n",
              "4     tomato,salt,ginger,redchillies,curry,asafoetid...  \n",
              "...                                                 ...  \n",
              "6033  flour,brownsugar,bakingpowder,milk,eggs,oats A...  \n",
              "6034  chicken,lime,cumin,salsa,cheese,tortillas Amer...  \n",
              "6035   onion,garlic,mushrooms,broth,milk,flour American  \n",
              "6036  ramennoodles,cabbage,carrot,eggs,soysauce,sesa...  \n",
              "6037  whitecakemix,strawberries,sugar,butter,eggs Am...  \n",
              "\n",
              "[6038 rows x 3 columns]>"
            ]
          },
          "metadata": {},
          "execution_count": 37
        }
      ]
    },
    {
      "cell_type": "code",
      "source": [
        "\n",
        "data_frame['keywords'] = data_frame['keywords'].apply(lambda x: x.replace(',', ' '))"
      ],
      "metadata": {
        "colab": {
          "base_uri": "https://localhost:8080/"
        },
        "id": "xsOYN5i68cdr",
        "outputId": "8232ad32-138e-4e2c-d062-ec9587f59a0d"
      },
      "execution_count": 38,
      "outputs": [
        {
          "output_type": "stream",
          "name": "stderr",
          "text": [
            "<ipython-input-38-dcf7ceeea9aa>:1: SettingWithCopyWarning: \n",
            "A value is trying to be set on a copy of a slice from a DataFrame.\n",
            "Try using .loc[row_indexer,col_indexer] = value instead\n",
            "\n",
            "See the caveats in the documentation: https://pandas.pydata.org/pandas-docs/stable/user_guide/indexing.html#returning-a-view-versus-a-copy\n",
            "  data_frame['keywords'] = data_frame['keywords'].apply(lambda x: x.replace(',', ' '))\n"
          ]
        }
      ]
    },
    {
      "cell_type": "code",
      "source": [
        "data_frame.sample"
      ],
      "metadata": {
        "colab": {
          "base_uri": "https://localhost:8080/"
        },
        "id": "cdIAuH2G9r-j",
        "outputId": "f0c3c1dd-70c1-4cab-cf95-804daeed6c03"
      },
      "execution_count": 39,
      "outputs": [
        {
          "output_type": "execute_result",
          "data": {
            "text/plain": [
              "<bound method NDFrame.sample of       FoodID                               TranslatedRecipeName  \\\n",
              "0        100                               Masala Karela Recipe   \n",
              "1        101                         Spicy Tomato Rice (Recipe)   \n",
              "2        102  Ragi Semiya Upma Recipe - Ragi Millet Vermicel...   \n",
              "3        103  Gongura Chicken Curry Recipe - Andhra Style Go...   \n",
              "4        104  Andhra Style Alam Pachadi Recipe - Adrak Chutn...   \n",
              "...      ...                                                ...   \n",
              "6033      96                       Brown Sugar Oatmeal Pancakes   \n",
              "6034      97                                 Lime Chicken Tacos   \n",
              "6035      98                       Quick Cream of Mushroom Soup   \n",
              "6036      99                               Egg Roll Noodle Bowl   \n",
              "6037     100                      Mamaw Emily’s Strawberry Cake   \n",
              "\n",
              "                                               keywords  \n",
              "0     salt amchurdrymangopowder karelabittergourdpav...  \n",
              "1     tomato salt chickpealentils greenchilli rice m...  \n",
              "2     salt ricevermicellinoodlesthin asafoetidahing ...  \n",
              "3     tomato salt ginger sorrelleavesgongura fennels...  \n",
              "4     tomato salt ginger redchillies curry asafoetid...  \n",
              "...                                                 ...  \n",
              "6033  flour brownsugar bakingpowder milk eggs oats A...  \n",
              "6034  chicken lime cumin salsa cheese tortillas Amer...  \n",
              "6035   onion garlic mushrooms broth milk flour American  \n",
              "6036  ramennoodles cabbage carrot eggs soysauce sesa...  \n",
              "6037  whitecakemix strawberries sugar butter eggs Am...  \n",
              "\n",
              "[6038 rows x 3 columns]>"
            ]
          },
          "metadata": {},
          "execution_count": 39
        }
      ]
    },
    {
      "cell_type": "code",
      "source": [
        "#vectorization\n",
        "from sklearn.feature_extraction.text import CountVectorizer\n",
        "cv = CountVectorizer (max_features = 5200, stop_words = 'english')\n"
      ],
      "metadata": {
        "id": "FryMGOJT93Pt"
      },
      "execution_count": 40,
      "outputs": []
    },
    {
      "cell_type": "code",
      "source": [
        "vectorized = cv.fit_transform(data_frame['keywords']).toarray()"
      ],
      "metadata": {
        "id": "7-Y23hC4SLu1"
      },
      "execution_count": 41,
      "outputs": []
    },
    {
      "cell_type": "code",
      "source": [
        "vectorized\n"
      ],
      "metadata": {
        "colab": {
          "base_uri": "https://localhost:8080/"
        },
        "id": "rPqiTEgqTeor",
        "outputId": "76456261-1bb8-4e5e-b07f-9cb9defdb3b8"
      },
      "execution_count": 42,
      "outputs": [
        {
          "output_type": "execute_result",
          "data": {
            "text/plain": [
              "array([[0, 0, 0, ..., 0, 0, 0],\n",
              "       [0, 0, 0, ..., 0, 0, 0],\n",
              "       [0, 0, 0, ..., 0, 0, 0],\n",
              "       ...,\n",
              "       [0, 0, 0, ..., 0, 0, 0],\n",
              "       [0, 0, 0, ..., 0, 0, 0],\n",
              "       [0, 0, 0, ..., 0, 0, 0]])"
            ]
          },
          "metadata": {},
          "execution_count": 42
        }
      ]
    },
    {
      "cell_type": "code",
      "source": [
        "ingredients = cv.get_feature_names_out()"
      ],
      "metadata": {
        "id": "_991QoESUkig"
      },
      "execution_count": 43,
      "outputs": []
    },
    {
      "cell_type": "code",
      "source": [
        "len(ingredients)"
      ],
      "metadata": {
        "id": "JiwIHjdDVjc7",
        "colab": {
          "base_uri": "https://localhost:8080/"
        },
        "outputId": "6f0bbc04-5a14-4268-894d-a1db0d1a2336"
      },
      "execution_count": 44,
      "outputs": [
        {
          "output_type": "execute_result",
          "data": {
            "text/plain": [
              "5200"
            ]
          },
          "metadata": {},
          "execution_count": 44
        }
      ]
    },
    {
      "cell_type": "code",
      "source": [
        "#stemming\n",
        "from nltk.stem.porter import PorterStemmer\n",
        "ps = PorterStemmer()"
      ],
      "metadata": {
        "id": "5KO7sjyA8LJF"
      },
      "execution_count": 45,
      "outputs": []
    },
    {
      "cell_type": "code",
      "source": [
        "ps.stem('amchurdrymangopowder')"
      ],
      "metadata": {
        "colab": {
          "base_uri": "https://localhost:8080/",
          "height": 35
        },
        "id": "YXMl5ALm9PrB",
        "outputId": "aea88820-ad73-47a5-f76f-df94c9e2200b"
      },
      "execution_count": 46,
      "outputs": [
        {
          "output_type": "execute_result",
          "data": {
            "text/plain": [
              "'amchurdrymangopowd'"
            ],
            "application/vnd.google.colaboratory.intrinsic+json": {
              "type": "string"
            }
          },
          "metadata": {},
          "execution_count": 46
        }
      ]
    },
    {
      "cell_type": "code",
      "source": [
        "ps.stem('mushrooms')"
      ],
      "metadata": {
        "colab": {
          "base_uri": "https://localhost:8080/",
          "height": 35
        },
        "id": "gWHMOd8Z9gY5",
        "outputId": "da0f8d27-098c-4337-b359-e689b210142d"
      },
      "execution_count": 47,
      "outputs": [
        {
          "output_type": "execute_result",
          "data": {
            "text/plain": [
              "'mushroom'"
            ],
            "application/vnd.google.colaboratory.intrinsic+json": {
              "type": "string"
            }
          },
          "metadata": {},
          "execution_count": 47
        }
      ]
    },
    {
      "cell_type": "code",
      "source": [
        "def stem(text):\n",
        "  y = []\n",
        "  for i in text.split():\n",
        "    y.append(ps.stem(i))\n",
        "  return \" \".join(y)"
      ],
      "metadata": {
        "id": "NL_PuU8_8-82"
      },
      "execution_count": 48,
      "outputs": []
    },
    {
      "cell_type": "code",
      "source": [
        "print(stem('flour brownsugar bakingpowder milk eggs oats'))"
      ],
      "metadata": {
        "colab": {
          "base_uri": "https://localhost:8080/"
        },
        "id": "W-X4aruB9q0H",
        "outputId": "c41fbfbd-50e7-47c9-d9ee-91136c953ef4"
      },
      "execution_count": 49,
      "outputs": [
        {
          "output_type": "stream",
          "name": "stdout",
          "text": [
            "flour brownsugar bakingpowd milk egg oat\n"
          ]
        }
      ]
    },
    {
      "cell_type": "code",
      "source": [
        "data_frame['keywords'] = data_frame['keywords'].apply(stem)"
      ],
      "metadata": {
        "colab": {
          "base_uri": "https://localhost:8080/"
        },
        "id": "IXHBWhIv-NF-",
        "outputId": "b0e143bb-27d2-4102-b691-0fbe86a0d311"
      },
      "execution_count": 50,
      "outputs": [
        {
          "output_type": "stream",
          "name": "stderr",
          "text": [
            "<ipython-input-50-a5663f1c131a>:1: SettingWithCopyWarning: \n",
            "A value is trying to be set on a copy of a slice from a DataFrame.\n",
            "Try using .loc[row_indexer,col_indexer] = value instead\n",
            "\n",
            "See the caveats in the documentation: https://pandas.pydata.org/pandas-docs/stable/user_guide/indexing.html#returning-a-view-versus-a-copy\n",
            "  data_frame['keywords'] = data_frame['keywords'].apply(stem)\n"
          ]
        }
      ]
    },
    {
      "cell_type": "code",
      "source": [
        "data_frame.sample"
      ],
      "metadata": {
        "colab": {
          "base_uri": "https://localhost:8080/"
        },
        "id": "P8xEwAMI-xxh",
        "outputId": "b1d2534d-6a1f-455f-ee8e-710e5f8aac3b"
      },
      "execution_count": 51,
      "outputs": [
        {
          "output_type": "execute_result",
          "data": {
            "text/plain": [
              "<bound method NDFrame.sample of       FoodID                               TranslatedRecipeName  \\\n",
              "0        100                               Masala Karela Recipe   \n",
              "1        101                         Spicy Tomato Rice (Recipe)   \n",
              "2        102  Ragi Semiya Upma Recipe - Ragi Millet Vermicel...   \n",
              "3        103  Gongura Chicken Curry Recipe - Andhra Style Go...   \n",
              "4        104  Andhra Style Alam Pachadi Recipe - Adrak Chutn...   \n",
              "...      ...                                                ...   \n",
              "6033      96                       Brown Sugar Oatmeal Pancakes   \n",
              "6034      97                                 Lime Chicken Tacos   \n",
              "6035      98                       Quick Cream of Mushroom Soup   \n",
              "6036      99                               Egg Roll Noodle Bowl   \n",
              "6037     100                      Mamaw Emily’s Strawberry Cake   \n",
              "\n",
              "                                               keywords  \n",
              "0     salt amchurdrymangopowd karelabittergourdpavak...  \n",
              "1     tomato salt chickpealentil greenchilli rice mu...  \n",
              "2     salt ricevermicellinoodlesthin asafoetidah mus...  \n",
              "3     tomato salt ginger sorrelleavesgongura fennels...  \n",
              "4     tomato salt ginger redchilli curri asafoetida ...  \n",
              "...                                                 ...  \n",
              "6033  flour brownsugar bakingpowd milk egg oat american  \n",
              "6034   chicken lime cumin salsa chees tortilla american  \n",
              "6035    onion garlic mushroom broth milk flour american  \n",
              "6036  ramennoodl cabbag carrot egg soysauc sesameoil...  \n",
              "6037  whitecakemix strawberri sugar butter egg american  \n",
              "\n",
              "[6038 rows x 3 columns]>"
            ]
          },
          "metadata": {},
          "execution_count": 51
        }
      ]
    },
    {
      "cell_type": "code",
      "source": [
        "#re-vectorization\n",
        "from sklearn.feature_extraction.text import CountVectorizer\n",
        "cv = CountVectorizer (max_features = 5200, stop_words = 'english')\n",
        "vectorized = cv.fit_transform(data_frame['keywords']).toarray()\n",
        "vectorized"
      ],
      "metadata": {
        "colab": {
          "base_uri": "https://localhost:8080/"
        },
        "id": "PLlY6eE4--GW",
        "outputId": "dfb215b2-44a5-4067-f179-debd48226b7f"
      },
      "execution_count": 52,
      "outputs": [
        {
          "output_type": "execute_result",
          "data": {
            "text/plain": [
              "array([[0, 0, 0, ..., 0, 0, 0],\n",
              "       [0, 0, 0, ..., 0, 0, 0],\n",
              "       [0, 0, 0, ..., 0, 0, 0],\n",
              "       ...,\n",
              "       [0, 0, 0, ..., 0, 0, 0],\n",
              "       [0, 0, 0, ..., 0, 0, 0],\n",
              "       [0, 0, 0, ..., 0, 0, 0]])"
            ]
          },
          "metadata": {},
          "execution_count": 52
        }
      ]
    },
    {
      "cell_type": "code",
      "source": [
        "len(cv.get_feature_names_out())"
      ],
      "metadata": {
        "colab": {
          "base_uri": "https://localhost:8080/"
        },
        "id": "k-iqP6Ns_kYM",
        "outputId": "14fd0c83-9ef4-4369-a8b2-e7e8131e2cea"
      },
      "execution_count": 53,
      "outputs": [
        {
          "output_type": "execute_result",
          "data": {
            "text/plain": [
              "5114"
            ]
          },
          "metadata": {},
          "execution_count": 53
        }
      ]
    },
    {
      "cell_type": "code",
      "source": [
        "#using cosine similarity from sklearn\n",
        "from sklearn.metrics.pairwise import cosine_similarity"
      ],
      "metadata": {
        "id": "E3RqmToa_vTu"
      },
      "execution_count": 54,
      "outputs": []
    },
    {
      "cell_type": "code",
      "source": [
        "similarity = cosine_similarity(vectorized)\n"
      ],
      "metadata": {
        "id": "BBUF5l1oBXfC"
      },
      "execution_count": 55,
      "outputs": []
    },
    {
      "cell_type": "code",
      "source": [
        "similarity"
      ],
      "metadata": {
        "colab": {
          "base_uri": "https://localhost:8080/"
        },
        "id": "Z_zblnKiBkQ4",
        "outputId": "90a5d93d-54ef-4531-eae2-ce2376b8d948"
      },
      "execution_count": 56,
      "outputs": [
        {
          "output_type": "execute_result",
          "data": {
            "text/plain": [
              "array([[1.        , 0.0836242 , 0.1672484 , ..., 0.11396058, 0.        ,\n",
              "        0.        ],\n",
              "       [0.0836242 , 1.        , 0.23076923, ..., 0.        , 0.        ,\n",
              "        0.        ],\n",
              "       [0.1672484 , 0.23076923, 1.        , ..., 0.10482848, 0.10482848,\n",
              "        0.        ],\n",
              "       ...,\n",
              "       [0.11396058, 0.        , 0.10482848, ..., 1.        , 0.14285714,\n",
              "        0.15430335],\n",
              "       [0.        , 0.        , 0.10482848, ..., 0.14285714, 1.        ,\n",
              "        0.3086067 ],\n",
              "       [0.        , 0.        , 0.        , ..., 0.15430335, 0.3086067 ,\n",
              "        1.        ]])"
            ]
          },
          "metadata": {},
          "execution_count": 56
        }
      ]
    },
    {
      "cell_type": "code",
      "source": [],
      "metadata": {
        "id": "9JpLYOznB7Or"
      },
      "execution_count": 56,
      "outputs": []
    },
    {
      "cell_type": "code",
      "source": [
        "def preprocess_keywords(keyword_string):\n",
        "    return keyword_string.split()\n",
        "data_frame['preprocessed_keywords'] = data_frame['keywords'].apply(preprocess_keywords)"
      ],
      "metadata": {
        "colab": {
          "base_uri": "https://localhost:8080/"
        },
        "id": "ucQL93BqKuc9",
        "outputId": "48bc7901-afd3-415a-9d79-93029aab27f2"
      },
      "execution_count": 78,
      "outputs": [
        {
          "output_type": "stream",
          "name": "stderr",
          "text": [
            "<ipython-input-78-409ac0d4ac8d>:3: SettingWithCopyWarning: \n",
            "A value is trying to be set on a copy of a slice from a DataFrame.\n",
            "Try using .loc[row_indexer,col_indexer] = value instead\n",
            "\n",
            "See the caveats in the documentation: https://pandas.pydata.org/pandas-docs/stable/user_guide/indexing.html#returning-a-view-versus-a-copy\n",
            "  data_frame['preprocessed_keywords'] = data_frame['keywords'].apply(preprocess_keywords)\n"
          ]
        }
      ]
    },
    {
      "cell_type": "code",
      "source": [
        "data_frame.sample"
      ],
      "metadata": {
        "colab": {
          "base_uri": "https://localhost:8080/"
        },
        "id": "OIf0_d6mPqYa",
        "outputId": "2dddf67f-8d99-4b2e-f2c8-c2f2786e0862"
      },
      "execution_count": 83,
      "outputs": [
        {
          "output_type": "execute_result",
          "data": {
            "text/plain": [
              "<bound method NDFrame.sample of       FoodID                               TranslatedRecipeName  \\\n",
              "0        100                               Masala Karela Recipe   \n",
              "1        101                         Spicy Tomato Rice (Recipe)   \n",
              "2        102  Ragi Semiya Upma Recipe - Ragi Millet Vermicel...   \n",
              "3        103  Gongura Chicken Curry Recipe - Andhra Style Go...   \n",
              "4        104  Andhra Style Alam Pachadi Recipe - Adrak Chutn...   \n",
              "...      ...                                                ...   \n",
              "6033      96                       Brown Sugar Oatmeal Pancakes   \n",
              "6034      97                                 Lime Chicken Tacos   \n",
              "6035      98                       Quick Cream of Mushroom Soup   \n",
              "6036      99                               Egg Roll Noodle Bowl   \n",
              "6037     100                      Mamaw Emily’s Strawberry Cake   \n",
              "\n",
              "                                               keywords  \\\n",
              "0     salt amchurdrymangopowd karelabittergourdpavak...   \n",
              "1     tomato salt chickpealentil greenchilli rice mu...   \n",
              "2     salt ricevermicellinoodlesthin asafoetidah mus...   \n",
              "3     tomato salt ginger sorrelleavesgongura fennels...   \n",
              "4     tomato salt ginger redchilli curri asafoetida ...   \n",
              "...                                                 ...   \n",
              "6033  flour brownsugar bakingpowd milk egg oat american   \n",
              "6034   chicken lime cumin salsa chees tortilla american   \n",
              "6035    onion garlic mushroom broth milk flour american   \n",
              "6036  ramennoodl cabbag carrot egg soysauc sesameoil...   \n",
              "6037  whitecakemix strawberri sugar butter egg american   \n",
              "\n",
              "                                  preprocessed_keywords  \n",
              "0     [salt, amchurdrymangopowd, karelabittergourdpa...  \n",
              "1     [tomato, salt, chickpealentil, greenchilli, ri...  \n",
              "2     [salt, ricevermicellinoodlesthin, asafoetidah,...  \n",
              "3     [tomato, salt, ginger, sorrelleavesgongura, fe...  \n",
              "4     [tomato, salt, ginger, redchilli, curri, asafo...  \n",
              "...                                                 ...  \n",
              "6033  [flour, brownsugar, bakingpowd, milk, egg, oat...  \n",
              "6034  [chicken, lime, cumin, salsa, chees, tortilla,...  \n",
              "6035  [onion, garlic, mushroom, broth, milk, flour, ...  \n",
              "6036  [ramennoodl, cabbag, carrot, egg, soysauc, ses...  \n",
              "6037  [whitecakemix, strawberri, sugar, butter, egg,...  \n",
              "\n",
              "[6038 rows x 4 columns]>"
            ]
          },
          "metadata": {},
          "execution_count": 83
        }
      ]
    },
    {
      "cell_type": "code",
      "source": [
        "def cosineSimilarity(a, b):\n",
        "    dot_product = np.dot(a, b)\n",
        "    norm_a = np.linalg.norm(a)\n",
        "    norm_b = np.linalg.norm(b)\n",
        "\n",
        "    similarity = dot_product / (norm_a * norm_b)\n",
        "\n",
        "    return similarity"
      ],
      "metadata": {
        "id": "BoaAmpHLMneT"
      },
      "execution_count": 90,
      "outputs": []
    },
    {
      "cell_type": "code",
      "source": [
        "\n",
        "# Implement a basic CountVectorizer-like functionality\n",
        "class SimpleCountVectorizer:\n",
        "    def __init__(self):\n",
        "        self.vocabulary_ = None\n",
        "\n",
        "    def fit_transform(self, corpus):\n",
        "        unique_tokens = set(token for doc in corpus for token in doc)\n",
        "        self.vocabulary_ = {token: i for i, token in enumerate(unique_tokens)}\n",
        "\n",
        "        matrix = np.zeros((len(corpus), len(unique_tokens)))\n",
        "\n",
        "        for i, doc in enumerate(corpus):\n",
        "            for token in doc:\n",
        "                matrix[i, self.vocabulary_[token]] += 1\n",
        "\n",
        "        return matrix\n"
      ],
      "metadata": {
        "id": "XsmW5Ed2OhNo"
      },
      "execution_count": 84,
      "outputs": []
    },
    {
      "cell_type": "code",
      "source": [
        "vectorizer = SimpleCountVectorizer()\n",
        "keywords_matrix = vectorizer.fit_transform(data_frame['preprocessed_keywords'])\n",
        "keywords_matrix"
      ],
      "metadata": {
        "colab": {
          "base_uri": "https://localhost:8080/"
        },
        "id": "j5oXz0z0RJDD",
        "outputId": "d57a41d2-78df-465c-9068-94119a7010c4"
      },
      "execution_count": 85,
      "outputs": [
        {
          "output_type": "execute_result",
          "data": {
            "text/plain": [
              "array([[0., 0., 0., ..., 0., 0., 0.],\n",
              "       [0., 0., 0., ..., 0., 0., 0.],\n",
              "       [0., 0., 0., ..., 0., 0., 0.],\n",
              "       ...,\n",
              "       [0., 0., 0., ..., 0., 0., 0.],\n",
              "       [0., 0., 0., ..., 0., 0., 0.],\n",
              "       [0., 0., 0., ..., 0., 0., 0.]])"
            ]
          },
          "metadata": {},
          "execution_count": 85
        }
      ]
    },
    {
      "cell_type": "code",
      "source": [
        "def cosine_similarity(vector_a, vector_b):\n",
        "    dot_product = np.dot(vector_a, vector_b)\n",
        "    norm_a = np.linalg.norm(vector_a)\n",
        "    norm_b = np.linalg.norm(vector_b)\n",
        "\n",
        "    similarity = dot_product / (norm_a * norm_b) if norm_a * norm_b != 0 else 0\n",
        "\n",
        "    return similarity"
      ],
      "metadata": {
        "id": "uVPysZNrRQ24"
      },
      "execution_count": 86,
      "outputs": []
    },
    {
      "cell_type": "code",
      "source": [
        "num_recipes = len(data_frame)\n",
        "cosine_sim_matrix = np.zeros((num_recipes, num_recipes))\n",
        "for i in range(num_recipes):\n",
        "    for j in range(num_recipes):\n",
        "        cosine_sim_matrix[i, j] = cosine_similarity(keywords_matrix[i], keywords_matrix[j])"
      ],
      "metadata": {
        "id": "XbEMM3nQRXb_"
      },
      "execution_count": 88,
      "outputs": []
    },
    {
      "cell_type": "code",
      "source": [
        "print(cosine_sim_matrix)"
      ],
      "metadata": {
        "colab": {
          "base_uri": "https://localhost:8080/"
        },
        "id": "gbksmbs_RdVA",
        "outputId": "29ee1457-71a9-42df-c5df-99350c8a9933"
      },
      "execution_count": 89,
      "outputs": [
        {
          "output_type": "stream",
          "name": "stdout",
          "text": [
            "[[1.         0.0836242  0.1672484  ... 0.11396058 0.         0.        ]\n",
            " [0.0836242  1.         0.23076923 ... 0.         0.         0.        ]\n",
            " [0.1672484  0.23076923 1.         ... 0.10482848 0.10482848 0.        ]\n",
            " ...\n",
            " [0.11396058 0.         0.10482848 ... 1.         0.14285714 0.15430335]\n",
            " [0.         0.         0.10482848 ... 0.14285714 1.         0.3086067 ]\n",
            " [0.         0.         0.         ... 0.15430335 0.3086067  1.        ]]\n"
          ]
        }
      ]
    },
    {
      "cell_type": "code",
      "source": [
        "# took 3 GB memory and 7 min runtime"
      ],
      "metadata": {
        "id": "kiX_8bKbUK1R"
      },
      "execution_count": null,
      "outputs": []
    },
    {
      "cell_type": "markdown",
      "source": [],
      "metadata": {
        "id": "q45T0W4TZTNf"
      }
    }
  ]
}